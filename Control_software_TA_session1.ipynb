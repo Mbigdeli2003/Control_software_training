{
  "nbformat": 4,
  "nbformat_minor": 0,
  "metadata": {
    "colab": {
      "provenance": [],
      "authorship_tag": "ABX9TyPNlhyQpuJyKlOOIRWWZ9dK",
      "include_colab_link": true
    },
    "kernelspec": {
      "name": "python3",
      "display_name": "Python 3"
    },
    "language_info": {
      "name": "python"
    }
  },
  "cells": [
    {
      "cell_type": "markdown",
      "metadata": {
        "id": "view-in-github",
        "colab_type": "text"
      },
      "source": [
        "<a href=\"https://colab.research.google.com/github/Mbigdeli2003/Control_software_training/blob/main/Control_software_TA_session1.ipynb\" target=\"_parent\"><img src=\"https://colab.research.google.com/assets/colab-badge.svg\" alt=\"Open In Colab\"/></a>"
      ]
    },
    {
      "cell_type": "markdown",
      "source": [
        "1. نصب کتابخانه Pandas:\n"
      ],
      "metadata": {
        "id": "XPN2U31Z-cIT"
      }
    },
    {
      "cell_type": "markdown",
      "source": [
        "##2.DataFrma:\n",
        "این داده‌ها شامل اطلاعاتی از افراد است که شامل داده‌های عددی (سن و حقوق) و غیرعددی (نام) می‌باشد."
      ],
      "metadata": {
        "id": "nDBbzYIZ-fn1"
      }
    },
    {
      "cell_type": "code",
      "execution_count": 1,
      "metadata": {
        "colab": {
          "base_uri": "https://localhost:8080/"
        },
        "id": "hGJvSo1I-EtP",
        "outputId": "592cf25f-a739-4f60-922f-d96b33263e3c"
      },
      "outputs": [
        {
          "output_type": "stream",
          "name": "stdout",
          "text": [
            "      Name  Age  Salary\n",
            "0    Alice   25   50000\n",
            "1      Bob   30   60000\n",
            "2  Charlie   35   70000\n",
            "3    David   40   80000\n"
          ]
        }
      ],
      "source": [
        "import pandas as pd\n",
        "import numpy as np\n",
        "\n",
        "# داده‌های ساختگی برای یک DataFrame\n",
        "data = {\n",
        "    'Name': ['Alice', 'Bob', 'Charlie', 'David'],\n",
        "    'Age': [25, 30, 35, 40],\n",
        "    'Salary': [50000, 60000, 70000, 80000]\n",
        "}\n",
        "\n",
        "df = pd.DataFrame(data)\n",
        "print(df)\n"
      ]
    },
    {
      "cell_type": "markdown",
      "source": [
        "##3. مشاهده داده‌ها:\n"
      ],
      "metadata": {
        "id": "wMkNOdEMQGSu"
      }
    },
    {
      "cell_type": "code",
      "source": [
        "# مشاهده ۵ سطر اول\n",
        "print(df.head(3))\n",
        "\n",
        "# مشاهده ۵ سطر آخر\n",
        "print(df.tail(2))\n",
        "\n",
        "# اطلاعات کلی در مورد DataFrame\n",
        "print(df.info())\n",
        "\n",
        "# نمایش توصیفی از داده‌های عددی\n",
        "print(df.describe())\n"
      ],
      "metadata": {
        "colab": {
          "base_uri": "https://localhost:8080/"
        },
        "id": "fISnhDUbQR4K",
        "outputId": "08507c82-a14b-42fd-a806-8754d3bf8ed7"
      },
      "execution_count": 6,
      "outputs": [
        {
          "output_type": "stream",
          "name": "stdout",
          "text": [
            "      Name  Age  Salary\n",
            "0    Alice   25   50000\n",
            "1      Bob   30   60000\n",
            "2  Charlie   35   70000\n",
            "      Name  Age  Salary\n",
            "2  Charlie   35   70000\n",
            "3    David   40   80000\n",
            "<class 'pandas.core.frame.DataFrame'>\n",
            "RangeIndex: 4 entries, 0 to 3\n",
            "Data columns (total 3 columns):\n",
            " #   Column  Non-Null Count  Dtype \n",
            "---  ------  --------------  ----- \n",
            " 0   Name    4 non-null      object\n",
            " 1   Age     4 non-null      int64 \n",
            " 2   Salary  4 non-null      int64 \n",
            "dtypes: int64(2), object(1)\n",
            "memory usage: 224.0+ bytes\n",
            "None\n",
            "             Age        Salary\n",
            "count   4.000000      4.000000\n",
            "mean   32.500000  65000.000000\n",
            "std     6.454972  12909.944487\n",
            "min    25.000000  50000.000000\n",
            "25%    28.750000  57500.000000\n",
            "50%    32.500000  65000.000000\n",
            "75%    36.250000  72500.000000\n",
            "max    40.000000  80000.000000\n"
          ]
        }
      ]
    },
    {
      "cell_type": "markdown",
      "source": [
        "4. دسترسی به ستون‌ها و ردیف‌ها:\n",
        "برای دسترسی به یک ستون یا چندین ستون از DataFrame:"
      ],
      "metadata": {
        "id": "KIVQn0YAQcOj"
      }
    },
    {
      "cell_type": "code",
      "source": [
        "# دسترسی به ستون \"Name\"\n",
        "print(df['Age'])\n",
        "\n",
        "# دسترسی به ردیف‌ها با loc و iloc\n",
        "# loc: براساس نام ستون و سطر\n",
        "print(df.loc[0])  # اولین ردیف\n",
        "\n",
        "# iloc: براساس ایندکس\n",
        "print(df.iloc[1:4])  #  0 تا 2 ردیف\n"
      ],
      "metadata": {
        "colab": {
          "base_uri": "https://localhost:8080/"
        },
        "id": "4WL0JuVZQnBv",
        "outputId": "53e20f99-049d-45ec-b052-b213695a53e8"
      },
      "execution_count": 9,
      "outputs": [
        {
          "output_type": "stream",
          "name": "stdout",
          "text": [
            "0    25\n",
            "1    30\n",
            "2    35\n",
            "3    40\n",
            "Name: Age, dtype: int64\n",
            "Name      Alice\n",
            "Age          25\n",
            "Salary    50000\n",
            "Name: 0, dtype: object\n",
            "      Name  Age  Salary\n",
            "1      Bob   30   60000\n",
            "2  Charlie   35   70000\n",
            "3    David   40   80000\n"
          ]
        }
      ]
    },
    {
      "cell_type": "markdown",
      "source": [
        "##5. اضافه کردن ستون جدید:\n",
        "ما می‌توانیم ستون‌های جدید اضافه کنیم:"
      ],
      "metadata": {
        "id": "bh2rV6z-QorI"
      }
    },
    {
      "cell_type": "code",
      "source": [
        "# اضافه کردن ستون جدید با مقادیر محاسبه شده\n",
        "df['Bonus'] = df['Salary'] * 0.1\n",
        "print(df)\n"
      ],
      "metadata": {
        "colab": {
          "base_uri": "https://localhost:8080/"
        },
        "id": "Odifsb29QuhG",
        "outputId": "1aae012b-c761-4cf1-8d41-55eb41856a17"
      },
      "execution_count": 10,
      "outputs": [
        {
          "output_type": "stream",
          "name": "stdout",
          "text": [
            "      Name  Age  Salary   Bonus\n",
            "0    Alice   25   50000  5000.0\n",
            "1      Bob   30   60000  6000.0\n",
            "2  Charlie   35   70000  7000.0\n",
            "3    David   40   80000  8000.0\n"
          ]
        }
      ]
    },
    {
      "cell_type": "markdown",
      "source": [
        "##6. فیلتر کردن داده‌ها:\n",
        "فیلتر کردن داده‌ها براساس شرایط:"
      ],
      "metadata": {
        "id": "exrGmwKoQt9G"
      }
    },
    {
      "cell_type": "code",
      "source": [
        "# فیلتر کردن افراد با سن بالای ۳۰\n",
        "df_filtered = df[df['Age'] >= 30]\n",
        "print(df_filtered)\n"
      ],
      "metadata": {
        "colab": {
          "base_uri": "https://localhost:8080/"
        },
        "id": "z3qWfs-QQ0f_",
        "outputId": "6c10bd09-c673-420f-8bb6-77d15c8f36e3"
      },
      "execution_count": 14,
      "outputs": [
        {
          "output_type": "stream",
          "name": "stdout",
          "text": [
            "      Name  Age  Salary   Bonus\n",
            "1      Bob   30   60000  6000.0\n",
            "2  Charlie   35   70000  7000.0\n",
            "3    David   40   80000  8000.0\n"
          ]
        }
      ]
    },
    {
      "cell_type": "markdown",
      "source": [
        "##7. گروه‌بندی داده‌ها:\n",
        "می‌توان داده‌ها را براساس یک ستون گروه‌بندی کرد و سپس آمار مختلف را مشاهده کرد:"
      ],
      "metadata": {
        "id": "uslndFdxQ4oG"
      }
    },
    {
      "cell_type": "code",
      "source": [
        "# # فقط ستون‌های عددی را انتخاب می‌کنیم\n",
        "# numeric_columns = df.select_dtypes(include=['float64', 'int64'])\n",
        "# numeric_columns\n",
        "\n",
        "# گروه‌بندی براساس سن و محاسبه میانگین حقوق و پاداش\n",
        "grouped = df.groupby('Age')[numeric_columns.columns].mean()\n",
        "print(grouped)\n"
      ],
      "metadata": {
        "colab": {
          "base_uri": "https://localhost:8080/"
        },
        "id": "Yuq1UNamRCVp",
        "outputId": "9c824aa5-cb3d-401b-80d9-ebedf8ecb87b"
      },
      "execution_count": 20,
      "outputs": [
        {
          "output_type": "stream",
          "name": "stdout",
          "text": [
            "      Age   Salary   Bonus\n",
            "Age                       \n",
            "25   25.0  50000.0  5000.0\n",
            "30   30.0  60000.0  6000.0\n",
            "35   35.0  70000.0  7000.0\n",
            "40   40.0  80000.0  8000.0\n"
          ]
        }
      ]
    },
    {
      "cell_type": "markdown",
      "source": [
        "##8. مرتب‌سازی داده‌ها:\n",
        "مرتب‌سازی داده‌ها بر اساس یک یا چند ستون:"
      ],
      "metadata": {
        "id": "Ox4sMLTTREAg"
      }
    },
    {
      "cell_type": "code",
      "source": [
        "# # مرتب‌سازی براساس سن\n",
        "# sorted_df = df.sort_values(by='Age', ascending=True)\n",
        "# print(sorted_df)\n",
        "\n",
        "# مرتب‌سازی بر اساس سن و حقوق\n",
        "sorted_multi = df.sort_values(['Age', 'Salary'], ascending=[True, False])\n",
        "print(sorted_multi)\n"
      ],
      "metadata": {
        "colab": {
          "base_uri": "https://localhost:8080/"
        },
        "id": "wGIwv6OURJN3",
        "outputId": "ecad6b0b-e6ea-4925-b93f-04c9463e0a12"
      },
      "execution_count": 23,
      "outputs": [
        {
          "output_type": "stream",
          "name": "stdout",
          "text": [
            "      Name  Age  Salary   Bonus\n",
            "0    Alice   25   50000  5000.0\n",
            "1      Bob   30   60000  6000.0\n",
            "2  Charlie   35   70000  7000.0\n",
            "3    David   40   80000  8000.0\n"
          ]
        }
      ]
    },
    {
      "cell_type": "markdown",
      "source": [
        "##10. مدیریت داده‌های گم شده:\n",
        "مدیریت داده‌های گم شده در DataFrame:"
      ],
      "metadata": {
        "id": "p45KX17nRMcH"
      }
    },
    {
      "cell_type": "code",
      "source": [
        "# # جایگزینی داده‌های گم شده با مقدار مشخص\n",
        "# df_with_nan = df.copy()\n",
        "# df_with_nan.loc[0, 'Age'] = np.nan  # ایجاد داده گم شده\n",
        "# print(df_with_nan)\n",
        "\n",
        "# پر کردن داده‌های گم شده با مقدار مشخص\n",
        "df_filled = df_with_nan.fillna(30)\n",
        "print(df_filled)\n"
      ],
      "metadata": {
        "colab": {
          "base_uri": "https://localhost:8080/"
        },
        "id": "G8aBqkCURTrv",
        "outputId": "64a73aae-93ed-4857-ef6b-53125f23be9e"
      },
      "execution_count": 26,
      "outputs": [
        {
          "output_type": "stream",
          "name": "stdout",
          "text": [
            "      Name   Age  Salary   Bonus\n",
            "0    Alice  30.0   50000  5000.0\n",
            "1      Bob  30.0   60000  6000.0\n",
            "2  Charlie  35.0   70000  7000.0\n",
            "3    David  40.0   80000  8000.0\n"
          ]
        }
      ]
    },
    {
      "cell_type": "markdown",
      "source": [
        "##11. توابع تغییر داده‌ها:\n",
        "تغییر داده‌ها با استفاده از apply() و lambda:"
      ],
      "metadata": {
        "id": "r-70jj2ZRVQP"
      }
    },
    {
      "cell_type": "code",
      "source": [
        "# # تغییر مقدار حقوق و افزایش آن ۱۰٪\n",
        "# df['Salary'] = df['Salary'].apply(lambda x: x * 1.1)\n",
        "# print(df)\n",
        "\n",
        "# تغییر ستون نام به حروف بزرگ\n",
        "df['Name'] = df['Name'].apply(lambda x: x.upper())\n",
        "print(df)\n"
      ],
      "metadata": {
        "colab": {
          "base_uri": "https://localhost:8080/"
        },
        "id": "OCRheO5JRf_1",
        "outputId": "7f006112-e212-4137-8c06-295081f230a6"
      },
      "execution_count": 28,
      "outputs": [
        {
          "output_type": "stream",
          "name": "stdout",
          "text": [
            "      Name  Age   Salary   Bonus\n",
            "0    ALICE   25  55000.0  5000.0\n",
            "1      BOB   30  66000.0  6000.0\n",
            "2  CHARLIE   35  77000.0  7000.0\n",
            "3    DAVID   40  88000.0  8000.0\n"
          ]
        }
      ]
    },
    {
      "cell_type": "markdown",
      "source": [
        "##12. ذخیره و بارگذاری داده‌ها:\n",
        "ذخیره کردن DataFrame به فایل و بارگذاری از فایل:"
      ],
      "metadata": {
        "id": "PUCSvCrURkkt"
      }
    },
    {
      "cell_type": "code",
      "source": [
        "# ذخیره به فایل CSV\n",
        "df.to_csv('data.csv', index=False)\n",
        "\n",
        "# بارگذاری از فایل CSV\n",
        "loaded_df = pd.read_csv('data.csv')\n",
        "print(loaded_df)\n"
      ],
      "metadata": {
        "colab": {
          "base_uri": "https://localhost:8080/"
        },
        "id": "7vo6gAUvRqft",
        "outputId": "76f13888-98f0-4e38-a4b9-d87fbbc75a1a"
      },
      "execution_count": null,
      "outputs": [
        {
          "output_type": "stream",
          "name": "stdout",
          "text": [
            "      Name  Age   Salary   Bonus\n",
            "0    ALICE   25  55000.0  5000.0\n",
            "1      BOB   30  66000.0  6000.0\n",
            "2  CHARLIE   35  77000.0  7000.0\n",
            "3    DAVID   40  88000.0  8000.0\n"
          ]
        }
      ]
    },
    {
      "cell_type": "markdown",
      "source": [
        "##13. بصری‌سازی داده‌ها:\n",
        "رسم نمودارهای ساده از داده‌ها:"
      ],
      "metadata": {
        "id": "nVQXVSNGRs0N"
      }
    },
    {
      "cell_type": "code",
      "source": [
        "# رسم نمودار نوار برای حقوق\n",
        "df['Salary'].plot(kind='bar', title='Salaries')\n"
      ],
      "metadata": {
        "colab": {
          "base_uri": "https://localhost:8080/",
          "height": 464
        },
        "id": "-119WoPMR0UF",
        "outputId": "6e64ec4d-0beb-48d4-fb2d-732a8b44328c"
      },
      "execution_count": 29,
      "outputs": [
        {
          "output_type": "execute_result",
          "data": {
            "text/plain": [
              "<Axes: title={'center': 'Salaries'}>"
            ]
          },
          "metadata": {},
          "execution_count": 29
        },
        {
          "output_type": "display_data",
          "data": {
            "text/plain": [
              "<Figure size 640x480 with 1 Axes>"
            ],
            "image/png": "[encoded data removed]"
          },
          "metadata": {}
        }
      ]
    },
    {
      "cell_type": "code",
      "source": [
        "from google.colab import drive\n",
        "drive.mount('/content/drive')"
      ],
      "metadata": {
        "id": "wYLRwwHWDw8O"
      },
      "execution_count": null,
      "outputs": []
    },
    {
      "cell_type": "markdown",
      "source": [],
      "metadata": {
        "id": "DQPJ-ohFSDa9"
      }
    }
  ]
}