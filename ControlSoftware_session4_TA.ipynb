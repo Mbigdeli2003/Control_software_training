{
  "nbformat": 4,
  "nbformat_minor": 0,
  "metadata": {
    "colab": {
      "provenance": [],
      "authorship_tag": "ABX9TyOgcECh+pSafpSbmmyUniCd",
      "include_colab_link": true
    },
    "kernelspec": {
      "name": "python3",
      "display_name": "Python 3"
    },
    "language_info": {
      "name": "python"
    }
  },
  "cells": [
    {
      "cell_type": "markdown",
      "metadata": {
        "id": "view-in-github",
        "colab_type": "text"
      },
      "source": [
        "<a href=\"https://colab.research.google.com/github/Mbigdeli2003/Control_software_training/blob/main/ControlSoftware_session4_TA.ipynb\" target=\"_parent\"><img src=\"https://colab.research.google.com/assets/colab-badge.svg\" alt=\"Open In Colab\"/></a>"
      ]
    },
    {
      "cell_type": "code",
      "execution_count": 1,
      "metadata": {
        "id": "dtFVxH8ofMit"
      },
      "outputs": [],
      "source": [
        "from sklearn.datasets import load_iris\n",
        "from sklearn.model_selection import train_test_split\n",
        "\n",
        "# بارگیری مجموعه داده‌ی Iris\n",
        "data = load_iris()\n",
        "X = data.data  # ویژگی‌ها (Features)\n",
        "y = data.target  # کلاس‌ها (Labels)\n",
        "\n",
        "# تقسیم داده‌ها به دو بخش آموزشی (Train) و تست (Test) با نسبت 70:30\n",
        "X_train, X_test, y_train, y_test = train_test_split(X, y, test_size=0.3, random_state=42)\n"
      ]
    },
    {
      "cell_type": "markdown",
      "source": [
        "SVM یکی از الگوریتم‌های پرکاربرد برای طبقه‌بندی است که از هایپلان‌ها برای جدا کردن کلاس‌ها استفاده می‌کند. ما از مدل SVC از کتابخانه‌ی sklearn استفاده می‌کنیم.\n",
        "\n",
        "پارامترهای مهم در SVM:\n",
        "C: پارامتری که تنظیم‌کننده‌ی درجه مجازات برای نمونه‌های داده‌ای است که به‌درستی طبقه‌بندی نمی‌شوند. مقادیر بالاتر C به معنای مجازات بیشتر و سعی بیشتر برای طبقه‌بندی صحیح تمام نقاط است، اما ممکن است به بیش‌برازش منجر شود.\n",
        "kernel: نوع کرنل مورد استفاده در الگوریتم. کرنل‌های متداول شامل linear, rbf, poly, و sigmoid هستند.\n",
        "gamma: این پارامتر برای کرنل‌های غیرخطی (rbf, poly, sigmoid) استفاده می‌شود و تاثیر آن بر شعاع نواحی تصمیم است"
      ],
      "metadata": {
        "id": "NxvrwUgpfbr1"
      }
    },
    {
      "cell_type": "code",
      "source": [
        "from sklearn.svm import SVC\n",
        "from sklearn.metrics import confusion_matrix, classification_report\n",
        "\n",
        "# ایجاد مدل SVM با کرنل خطی و مقدار C برابر با 1.0\n",
        "svm_classifier = SVC(C=1.0, kernel='linear', gamma='scale', random_state=42)\n",
        "\n",
        "# آموزش مدل SVM بر روی داده‌های آموزشی\n",
        "svm_classifier.fit(X_train, y_train)\n",
        "\n",
        "# پیش‌بینی بر روی داده‌های تست\n",
        "y_pred_svm = svm_classifier.predict(X_test)\n",
        "\n",
        "# ارزیابی مدل با استفاده از ماتریس درهم‌ریختگی و گزارش طبقه‌بندی\n",
        "conf_matrix_svm = confusion_matrix(y_test, y_pred_svm)\n",
        "class_report_svm = classification_report(y_test, y_pred_svm)\n",
        "\n",
        "# نمایش نتایج\n",
        "print(\"Confusion Matrix for SVM:\")\n",
        "print(conf_matrix_svm)\n",
        "print(\"\\nClassification Report for SVM:\")\n",
        "print(class_report_svm)\n"
      ],
      "metadata": {
        "colab": {
          "base_uri": "https://localhost:8080/"
        },
        "id": "4RCGcTFUfsvC",
        "outputId": "af3c23da-cee8-441d-d75e-1194595b93e4"
      },
      "execution_count": 2,
      "outputs": [
        {
          "output_type": "stream",
          "name": "stdout",
          "text": [
            "Confusion Matrix for SVM:\n",
            "[[19  0  0]\n",
            " [ 0 13  0]\n",
            " [ 0  0 13]]\n",
            "\n",
            "Classification Report for SVM:\n",
            "              precision    recall  f1-score   support\n",
            "\n",
            "           0       1.00      1.00      1.00        19\n",
            "           1       1.00      1.00      1.00        13\n",
            "           2       1.00      1.00      1.00        13\n",
            "\n",
            "    accuracy                           1.00        45\n",
            "   macro avg       1.00      1.00      1.00        45\n",
            "weighted avg       1.00      1.00      1.00        45\n",
            "\n"
          ]
        }
      ]
    },
    {
      "cell_type": "markdown",
      "source": [
        "الگوریتم درخت تصمیم\n",
        "درخت تصمیم یک الگوریتم یادگیری ماشین مبتنی بر درخت است که به تصمیم‌گیری براساس ویژگی‌ها کمک می‌کند. این الگوریتم با تقسیم مکرر مجموعه داده به کلاس‌های مختلف، سعی در یافتن مرزهای تصمیم‌گیری دارد.\n",
        "\n",
        "پارامترهای مهم در درخت تصمیم:\n",
        "max_depth: حداکثر عمق درخت. تنظیم عمق درخت می‌تواند به جلوگیری از بیش‌برازش کمک کند.\n",
        "min_samples_split: حداقل تعداد نمونه‌هایی که برای تقسیم یک گره نیاز است. مقادیر بالاتر به جلوگیری از رشد بیش‌ازحد درخت کمک می‌کنند.\n",
        "criterion: معیار برای تقسیم‌بندی. معمولاً gini یا entropy برای معیار کاهش اطلاعات استفاده می‌شود."
      ],
      "metadata": {
        "id": "CxHYNW6sfy_O"
      }
    },
    {
      "cell_type": "code",
      "source": [
        "from sklearn.tree import DecisionTreeClassifier\n",
        "\n",
        "# ایجاد مدل درخت تصمیم با معیار Gini و عمق حداکثر 3\n",
        "dt_classifier = DecisionTreeClassifier(criterion='gini', max_depth=3, random_state=42)\n",
        "\n",
        "# آموزش مدل درخت تصمیم بر روی داده‌های آموزشی\n",
        "dt_classifier.fit(X_train, y_train)\n",
        "\n",
        "# پیش‌بینی بر روی داده‌های تست\n",
        "y_pred_dt = dt_classifier.predict(X_test)\n",
        "\n",
        "# ارزیابی مدل با استفاده از ماتریس درهم‌ریختگی و گزارش طبقه‌بندی\n",
        "conf_matrix_dt = confusion_matrix(y_test, y_pred_dt)\n",
        "class_report_dt = classification_report(y_test, y_pred_dt)\n",
        "\n",
        "# نمایش نتایج\n",
        "print(\"Confusion Matrix for Decision Tree:\")\n",
        "print(conf_matrix_dt)\n",
        "print(\"\\nClassification Report for Decision Tree:\")\n",
        "print(class_report_dt)\n"
      ],
      "metadata": {
        "colab": {
          "base_uri": "https://localhost:8080/"
        },
        "id": "tITZgBcjf3Co",
        "outputId": "910ac8b8-fd8b-48ba-df8f-b9c05e748503"
      },
      "execution_count": 3,
      "outputs": [
        {
          "output_type": "stream",
          "name": "stdout",
          "text": [
            "Confusion Matrix for Decision Tree:\n",
            "[[19  0  0]\n",
            " [ 0 13  0]\n",
            " [ 0  0 13]]\n",
            "\n",
            "Classification Report for Decision Tree:\n",
            "              precision    recall  f1-score   support\n",
            "\n",
            "           0       1.00      1.00      1.00        19\n",
            "           1       1.00      1.00      1.00        13\n",
            "           2       1.00      1.00      1.00        13\n",
            "\n",
            "    accuracy                           1.00        45\n",
            "   macro avg       1.00      1.00      1.00        45\n",
            "weighted avg       1.00      1.00      1.00        45\n",
            "\n"
          ]
        }
      ]
    }
  ]
}